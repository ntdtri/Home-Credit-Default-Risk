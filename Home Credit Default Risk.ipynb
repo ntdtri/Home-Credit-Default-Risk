{
 "cells": [
  {
   "cell_type": "markdown",
   "metadata": {},
   "source": [
    "# Home Credit Default Risk\n",
    "## Dataset: Home Credit Default Risk\n",
    "### Source: https://www.kaggle.com/c/home-credit-default-risk/data"
   ]
  },
  {
   "cell_type": "markdown",
   "metadata": {},
   "source": [
    "### Predict how capable each applicant is of repaying a loan?"
   ]
  },
  {
   "cell_type": "markdown",
   "metadata": {},
   "source": [
    "Many people struggle to get loans due to insufficient or non-existent credit histories. And, unfortunately, this population is often taken advantage of by untrustworthy lenders.\n",
    "\n",
    "Home Credit Group\n",
    "\n",
    "Home Credit strives to broaden financial inclusion for the unbanked population by providing a positive and safe borrowing experience. In order to make sure this underserved population has a positive loan experience, Home Credit makes use of a variety of alternative data--including telco and transactional information--to predict their clients' repayment abilities.\n",
    "\n",
    "While Home Credit is currently using various statistical and machine learning methods to make these predictions, they're challenging Kagglers to help them unlock the full potential of their data. Doing so will ensure that clients capable of repayment are not rejected and that loans are given with a principal, maturity, and repayment calendar that will empower their clients to be successful."
   ]
  },
  {
   "cell_type": "code",
   "execution_count": 1,
   "metadata": {},
   "outputs": [],
   "source": [
    "# Import some libraries needed for analysis\n",
    "import os\n",
    "import matplotlib.pyplot as plt\n",
    "import seaborn as sns\n",
    "import pandas as pd\n",
    "import statsmodels.api as sm\n",
    "import numpy as np\n",
    "from datetime import datetime\n",
    "\n",
    "# Display for notebooks\n",
    "%matplotlib inline"
   ]
  },
  {
   "cell_type": "markdown",
   "metadata": {},
   "source": [
    "# 0. Library"
   ]
  },
  {
   "cell_type": "code",
   "execution_count": 30,
   "metadata": {},
   "outputs": [],
   "source": [
    "#Plot counts of values in feature in the database df\n",
    "def plot_counts(df, feature):\n",
    "    palette = sns.color_palette()\n",
    "    ax = sns.countplot(x=feature, data=df, alpha = 0.8)\n",
    "    \n",
    "    n = len(df[feature])\n",
    "    \n",
    "    #Make twin axis\n",
    "    ax1= ax.twinx()\n",
    "    \n",
    "    ax.set_ylabel('Count')\n",
    "    ax1.set_ylabel('%')\n",
    "    for p in ax.patches:\n",
    "        x = p.get_bbox().get_points()[:,0]\n",
    "        y = p.get_bbox().get_points()[1, 1]\n",
    "        ax.annotate('{:.1f}%'.format(100. * y / n), (x.mean(), y),\n",
    "                    ha='center', va='bottom')\n",
    "    ax.set_xticklabels(ax.get_xticklabels(), rotation=40, ha=\"right\",\n",
    "                           fontsize=8)\n",
    "    plt.show()\n",
    "\n",
    "#Plot counts of values in feature in the database df\n",
    "#Plot counts of values with target = targeted values\n",
    "def plot_features_target(df, feature, target, targeted_value):\n",
    "    df_targeted_feature = df[df[target]==targeted_value]\n",
    "    plot_counts (df_targeted_feature, feature)\n",
    "    \n",
    "def category_percentage_by_target(df, feature, target):\n",
    "    df_percentage = pd.DataFrame(columns = df[target].unique(), index = df[feature].unique())\n",
    "    for col in df_percentage.columns:\n",
    "        count = len(df[df[target]==col])\n",
    "        for row in df_percentage.index:\n",
    "            df_percentage.at[row, col] = len(df[(df[target]==col) & (df[feature]==row)])*100.0/count\n",
    "    return df_percentage\n",
    "\n",
    "#Plot stacked percentage bar chart\n",
    "#df is a database where all total of each column is 100%\n",
    "def plot_stacked_percentage_bar(df, title=None):\n",
    "    # Create a figure with a single subplot\n",
    "    f, ax = plt.subplots(1, figsize=(10,5))\n",
    "    \n",
    "    # Set bar width at 1\n",
    "    bar_width = 1\n",
    "    \n",
    "    # positions of the left bar-boundaries\n",
    "    bar_l = [i for i in range(len(df.columns))] \n",
    "\n",
    "    # positions of the x-axis ticks (center of the bars as bar labels)\n",
    "    #tick_pos = [i+(bar_width*1.0/2) for i in bar_l]\n",
    "    tick_pos = bar_l\n",
    "    print('bar l: '+str(bar_l))\n",
    "    print('tick pos' + str(tick_pos))\n",
    "\n",
    "    palette = sns.color_palette()\n",
    "    \n",
    "    # Create a bar chart in position bar_1\n",
    "    data2plot = [sum(df_percentage[column]) for column in df_percentage.columns]\n",
    "    for i in range(len(df)):\n",
    "        #print(i, data2plot, df.iloc[len(df)])\n",
    "        ax.bar(bar_l, \n",
    "               # using pre_rel data\n",
    "               data2plot, \n",
    "               # labeled \n",
    "               label=df.index[i], \n",
    "               # with alpha\n",
    "               alpha=0.9, \n",
    "               # with color\n",
    "               color=palette[i],\n",
    "               # with bar width\n",
    "               width=bar_width,\n",
    "               # with border color\n",
    "               edgecolor='white',\n",
    "               )\n",
    "        data2plot = data2plot - df.iloc[i]\n",
    "        \n",
    "    #Draw legend\n",
    "    ax.legend(loc='upper left', bbox_to_anchor=(1,1), ncol=1)\n",
    "    \n",
    "    # Let the borders of the graphic\n",
    "    plt.xlim([min(tick_pos)-bar_width, max(tick_pos)+bar_width])\n",
    "    plt.ylim(-10, 110)\n",
    "    \n",
    "    # Set the ticks to be first names\n",
    "    plt.xticks(tick_pos, df.columns)\n",
    "    ax.set_ylabel(\"Percentage\")\n",
    "    plt.title(title)\n",
    "    \n",
    "    plt.show()"
   ]
  },
  {
   "cell_type": "markdown",
   "metadata": {},
   "source": [
    "## 1. Extract Data"
   ]
  },
  {
   "cell_type": "code",
   "execution_count": 3,
   "metadata": {},
   "outputs": [
    {
     "name": "stdout",
     "output_type": "stream",
     "text": [
      "['application_test.csv', 'application_train.csv', 'bureau.csv', 'bureau_balance.csv', 'credit_card_balance.csv', 'HomeCredit_columns_description.csv', 'installments_payments.csv', 'POS_CASH_balance.csv', 'previous_application.csv', 'sample_submission.csv']\n"
     ]
    }
   ],
   "source": [
    "#List all files in data folder\n",
    "DATA_DIR = 'data'\n",
    "print(os.listdir(DATA_DIR))"
   ]
  },
  {
   "cell_type": "code",
   "execution_count": 6,
   "metadata": {},
   "outputs": [
    {
     "name": "stdout",
     "output_type": "stream",
     "text": [
      "<class 'pandas.core.frame.DataFrame'>\n",
      "RangeIndex: 307511 entries, 0 to 307510\n",
      "Columns: 122 entries, SK_ID_CURR to AMT_REQ_CREDIT_BUREAU_YEAR\n",
      "dtypes: float64(65), int64(41), object(16)\n",
      "memory usage: 286.2+ MB\n"
     ]
    }
   ],
   "source": [
    "#Load the Application Train dataset\n",
    "df_application_train = pd.read_csv(DATA_DIR + '/application_train.csv')\n",
    "\n",
    "#Print Application Train dataset info\n",
    "df_application_train.info()"
   ]
  },
  {
   "cell_type": "markdown",
   "metadata": {},
   "source": [
    "## 2. Data Exploration"
   ]
  },
  {
   "cell_type": "code",
   "execution_count": 58,
   "metadata": {},
   "outputs": [
    {
     "data": {
      "image/png": "[encoded data removed]",
      "text/plain": [
       "<Figure size 432x288 with 2 Axes>"
      ]
     },
     "metadata": {
      "needs_background": "light"
     },
     "output_type": "display_data"
    }
   ],
   "source": [
    "#sns.countplot(x='TARGET', data=df_application_train)\n",
    "plot_counts(df_application_train, 'TARGET')\n",
    "plt.show()"
   ]
  },
  {
   "cell_type": "markdown",
   "metadata": {},
   "source": [
    "Majority of the clients do not have payment difficulties, so the TARGET variable is imbalanced."
   ]
  },
  {
   "cell_type": "code",
   "execution_count": 7,
   "metadata": {},
   "outputs": [
    {
     "data": {
      "text/html": [
       "<div>\n",
       "<style scoped>\n",
       "    .dataframe tbody tr th:only-of-type {\n",
       "        vertical-align: middle;\n",
       "    }\n",
       "\n",
       "    .dataframe tbody tr th {\n",
       "        vertical-align: top;\n",
       "    }\n",
       "\n",
       "    .dataframe thead th {\n",
       "        text-align: right;\n",
       "    }\n",
       "</style>\n",
       "<table border=\"1\" class=\"dataframe\">\n",
       "  <thead>\n",
       "    <tr style=\"text-align: right;\">\n",
       "      <th></th>\n",
       "      <th>SK_ID_CURR</th>\n",
       "      <th>TARGET</th>\n",
       "      <th>NAME_CONTRACT_TYPE</th>\n",
       "      <th>FLAG_OWN_CAR</th>\n",
       "      <th>FLAG_OWN_REALTY</th>\n",
       "      <th>AMT_INCOME_TOTAL</th>\n",
       "      <th>AMT_CREDIT</th>\n",
       "      <th>AMT_ANNUITY</th>\n",
       "      <th>AMT_GOODS_PRICE</th>\n",
       "      <th>NAME_INCOME_TYPE</th>\n",
       "      <th>...</th>\n",
       "      <th>FLAG_DOCUMENT_18</th>\n",
       "      <th>FLAG_DOCUMENT_19</th>\n",
       "      <th>FLAG_DOCUMENT_20</th>\n",
       "      <th>FLAG_DOCUMENT_21</th>\n",
       "      <th>AMT_REQ_CREDIT_BUREAU_HOUR</th>\n",
       "      <th>AMT_REQ_CREDIT_BUREAU_DAY</th>\n",
       "      <th>AMT_REQ_CREDIT_BUREAU_WEEK</th>\n",
       "      <th>AMT_REQ_CREDIT_BUREAU_MON</th>\n",
       "      <th>AMT_REQ_CREDIT_BUREAU_QRT</th>\n",
       "      <th>AMT_REQ_CREDIT_BUREAU_YEAR</th>\n",
       "    </tr>\n",
       "  </thead>\n",
       "  <tbody>\n",
       "    <tr>\n",
       "      <th>0</th>\n",
       "      <td>100002</td>\n",
       "      <td>1</td>\n",
       "      <td>Cash loans</td>\n",
       "      <td>N</td>\n",
       "      <td>Y</td>\n",
       "      <td>202500.0</td>\n",
       "      <td>406597.5</td>\n",
       "      <td>24700.5</td>\n",
       "      <td>351000.0</td>\n",
       "      <td>Working</td>\n",
       "      <td>...</td>\n",
       "      <td>0</td>\n",
       "      <td>0</td>\n",
       "      <td>0</td>\n",
       "      <td>0</td>\n",
       "      <td>0.0</td>\n",
       "      <td>0.0</td>\n",
       "      <td>0.0</td>\n",
       "      <td>0.0</td>\n",
       "      <td>0.0</td>\n",
       "      <td>1.0</td>\n",
       "    </tr>\n",
       "    <tr>\n",
       "      <th>1</th>\n",
       "      <td>100003</td>\n",
       "      <td>0</td>\n",
       "      <td>Cash loans</td>\n",
       "      <td>N</td>\n",
       "      <td>N</td>\n",
       "      <td>270000.0</td>\n",
       "      <td>1293502.5</td>\n",
       "      <td>35698.5</td>\n",
       "      <td>1129500.0</td>\n",
       "      <td>State servant</td>\n",
       "      <td>...</td>\n",
       "      <td>0</td>\n",
       "      <td>0</td>\n",
       "      <td>0</td>\n",
       "      <td>0</td>\n",
       "      <td>0.0</td>\n",
       "      <td>0.0</td>\n",
       "      <td>0.0</td>\n",
       "      <td>0.0</td>\n",
       "      <td>0.0</td>\n",
       "      <td>0.0</td>\n",
       "    </tr>\n",
       "    <tr>\n",
       "      <th>2</th>\n",
       "      <td>100004</td>\n",
       "      <td>0</td>\n",
       "      <td>Revolving loans</td>\n",
       "      <td>Y</td>\n",
       "      <td>Y</td>\n",
       "      <td>67500.0</td>\n",
       "      <td>135000.0</td>\n",
       "      <td>6750.0</td>\n",
       "      <td>135000.0</td>\n",
       "      <td>Working</td>\n",
       "      <td>...</td>\n",
       "      <td>0</td>\n",
       "      <td>0</td>\n",
       "      <td>0</td>\n",
       "      <td>0</td>\n",
       "      <td>0.0</td>\n",
       "      <td>0.0</td>\n",
       "      <td>0.0</td>\n",
       "      <td>0.0</td>\n",
       "      <td>0.0</td>\n",
       "      <td>0.0</td>\n",
       "    </tr>\n",
       "    <tr>\n",
       "      <th>3</th>\n",
       "      <td>100006</td>\n",
       "      <td>0</td>\n",
       "      <td>Cash loans</td>\n",
       "      <td>N</td>\n",
       "      <td>Y</td>\n",
       "      <td>135000.0</td>\n",
       "      <td>312682.5</td>\n",
       "      <td>29686.5</td>\n",
       "      <td>297000.0</td>\n",
       "      <td>Working</td>\n",
       "      <td>...</td>\n",
       "      <td>0</td>\n",
       "      <td>0</td>\n",
       "      <td>0</td>\n",
       "      <td>0</td>\n",
       "      <td>NaN</td>\n",
       "      <td>NaN</td>\n",
       "      <td>NaN</td>\n",
       "      <td>NaN</td>\n",
       "      <td>NaN</td>\n",
       "      <td>NaN</td>\n",
       "    </tr>\n",
       "    <tr>\n",
       "      <th>4</th>\n",
       "      <td>100007</td>\n",
       "      <td>0</td>\n",
       "      <td>Cash loans</td>\n",
       "      <td>N</td>\n",
       "      <td>Y</td>\n",
       "      <td>121500.0</td>\n",
       "      <td>513000.0</td>\n",
       "      <td>21865.5</td>\n",
       "      <td>513000.0</td>\n",
       "      <td>Working</td>\n",
       "      <td>...</td>\n",
       "      <td>0</td>\n",
       "      <td>0</td>\n",
       "      <td>0</td>\n",
       "      <td>0</td>\n",
       "      <td>0.0</td>\n",
       "      <td>0.0</td>\n",
       "      <td>0.0</td>\n",
       "      <td>0.0</td>\n",
       "      <td>0.0</td>\n",
       "      <td>0.0</td>\n",
       "    </tr>\n",
       "  </tbody>\n",
       "</table>\n",
       "<p>5 rows × 51 columns</p>\n",
       "</div>"
      ],
      "text/plain": [
       "   SK_ID_CURR  TARGET NAME_CONTRACT_TYPE FLAG_OWN_CAR FLAG_OWN_REALTY  \\\n",
       "0      100002       1         Cash loans            N               Y   \n",
       "1      100003       0         Cash loans            N               N   \n",
       "2      100004       0    Revolving loans            Y               Y   \n",
       "3      100006       0         Cash loans            N               Y   \n",
       "4      100007       0         Cash loans            N               Y   \n",
       "\n",
       "   AMT_INCOME_TOTAL  AMT_CREDIT  AMT_ANNUITY  AMT_GOODS_PRICE  \\\n",
       "0          202500.0    406597.5      24700.5         351000.0   \n",
       "1          270000.0   1293502.5      35698.5        1129500.0   \n",
       "2           67500.0    135000.0       6750.0         135000.0   \n",
       "3          135000.0    312682.5      29686.5         297000.0   \n",
       "4          121500.0    513000.0      21865.5         513000.0   \n",
       "\n",
       "  NAME_INCOME_TYPE  ... FLAG_DOCUMENT_18 FLAG_DOCUMENT_19  FLAG_DOCUMENT_20  \\\n",
       "0          Working  ...                0                0                 0   \n",
       "1    State servant  ...                0                0                 0   \n",
       "2          Working  ...                0                0                 0   \n",
       "3          Working  ...                0                0                 0   \n",
       "4          Working  ...                0                0                 0   \n",
       "\n",
       "   FLAG_DOCUMENT_21  AMT_REQ_CREDIT_BUREAU_HOUR AMT_REQ_CREDIT_BUREAU_DAY  \\\n",
       "0                 0                         0.0                       0.0   \n",
       "1                 0                         0.0                       0.0   \n",
       "2                 0                         0.0                       0.0   \n",
       "3                 0                         NaN                       NaN   \n",
       "4                 0                         0.0                       0.0   \n",
       "\n",
       "  AMT_REQ_CREDIT_BUREAU_WEEK  AMT_REQ_CREDIT_BUREAU_MON  \\\n",
       "0                        0.0                        0.0   \n",
       "1                        0.0                        0.0   \n",
       "2                        0.0                        0.0   \n",
       "3                        NaN                        NaN   \n",
       "4                        0.0                        0.0   \n",
       "\n",
       "   AMT_REQ_CREDIT_BUREAU_QRT  AMT_REQ_CREDIT_BUREAU_YEAR  \n",
       "0                        0.0                         1.0  \n",
       "1                        0.0                         0.0  \n",
       "2                        0.0                         0.0  \n",
       "3                        NaN                         NaN  \n",
       "4                        0.0                         0.0  \n",
       "\n",
       "[5 rows x 51 columns]"
      ]
     },
     "execution_count": 7,
     "metadata": {},
     "output_type": "execute_result"
    }
   ],
   "source": [
    "# Drop any column that could pose potential discriminatory issues using in a model\n",
    "# Gender, Family Status, Age, Area of Residence (Redlining), Type of Housing\n",
    "cols2drop = ['CODE_GENDER', 'CNT_CHILDREN', 'NAME_TYPE_SUITE', 'NAME_FAMILY_STATUS', \n",
    "             'DAYS_BIRTH', 'CNT_FAM_MEMBERS', 'REG_REGION_NOT_LIVE_REGION', \n",
    "             'REG_REGION_NOT_WORK_REGION', 'LIVE_REGION_NOT_WORK_REGION', \n",
    "             'REG_CITY_NOT_LIVE_CITY', 'REG_CITY_NOT_WORK_CITY',\n",
    "             'LIVE_CITY_NOT_WORK_CITY', 'REGION_POPULATION_RELATIVE', \n",
    "             'REGION_RATING_CLIENT', 'REGION_RATING_CLIENT_W_CITY','APARTMENTS_AVG',\n",
    "             'BASEMENTAREA_AVG', 'YEARS_BEGINEXPLUATATION_AVG', 'YEARS_BUILD_AVG', \n",
    "             'COMMONAREA_AVG', 'ELEVATORS_AVG', 'ENTRANCES_AVG', 'FLOORSMAX_AVG',\n",
    "             'FLOORSMIN_AVG', 'LANDAREA_AVG', 'LIVINGAPARTMENTS_AVG', 'LIVINGAREA_AVG', \n",
    "             'NONLIVINGAPARTMENTS_AVG','NONLIVINGAREA_AVG', 'APARTMENTS_MODE', \n",
    "             'BASEMENTAREA_MODE', 'YEARS_BEGINEXPLUATATION_MODE','YEARS_BUILD_MODE', \n",
    "             'COMMONAREA_MODE', 'ELEVATORS_MODE', 'ENTRANCES_MODE', 'FLOORSMAX_MODE',\n",
    "             'FLOORSMIN_MODE', 'LANDAREA_MODE', 'LIVINGAPARTMENTS_MODE', \n",
    "             'LIVINGAREA_MODE', 'NONLIVINGAPARTMENTS_MODE', 'NONLIVINGAREA_MODE', \n",
    "             'APARTMENTS_MEDI', 'BASEMENTAREA_MEDI', 'YEARS_BEGINEXPLUATATION_MEDI', \n",
    "             'YEARS_BUILD_MEDI', 'COMMONAREA_MEDI', 'ELEVATORS_MEDI', 'ENTRANCES_MEDI', \n",
    "             'FLOORSMAX_MEDI', 'FLOORSMIN_MEDI', 'LANDAREA_MEDI', \n",
    "             'LIVINGAPARTMENTS_MEDI', 'LIVINGAREA_MEDI', 'NONLIVINGAPARTMENTS_MEDI', \n",
    "             'NONLIVINGAREA_MEDI', 'FONDKAPREMONT_MODE', 'HOUSETYPE_MODE', \n",
    "             'TOTALAREA_MODE', 'WALLSMATERIAL_MODE', 'EMERGENCYSTATE_MODE',\n",
    "             # Columns to drop based on intuition\n",
    "             'WEEKDAY_APPR_PROCESS_START', 'HOUR_APPR_PROCESS_START', \n",
    "             'FLAG_MOBIL', 'FLAG_EMP_PHONE' , 'FLAG_WORK_PHONE' ,'FLAG_CONT_MOBILE', \n",
    "             'FLAG_PHONE', 'FLAG_EMAIL', 'OWN_CAR_AGE',\n",
    "             ]\n",
    "df_application_train = df_application_train.drop(columns = cols2drop, axis = 1)\n",
    "\n",
    "# Display top n records\n",
    "df_application_train.head()"
   ]
  },
  {
   "cell_type": "code",
   "execution_count": 8,
   "metadata": {},
   "outputs": [
    {
     "data": {
      "text/html": [
       "<div>\n",
       "<style scoped>\n",
       "    .dataframe tbody tr th:only-of-type {\n",
       "        vertical-align: middle;\n",
       "    }\n",
       "\n",
       "    .dataframe tbody tr th {\n",
       "        vertical-align: top;\n",
       "    }\n",
       "\n",
       "    .dataframe thead th {\n",
       "        text-align: right;\n",
       "    }\n",
       "</style>\n",
       "<table border=\"1\" class=\"dataframe\">\n",
       "  <thead>\n",
       "    <tr style=\"text-align: right;\">\n",
       "      <th></th>\n",
       "      <th>NAME_CONTRACT_TYPE</th>\n",
       "      <th>FLAG_OWN_CAR</th>\n",
       "      <th>FLAG_OWN_REALTY</th>\n",
       "      <th>NAME_INCOME_TYPE</th>\n",
       "      <th>NAME_EDUCATION_TYPE</th>\n",
       "      <th>NAME_HOUSING_TYPE</th>\n",
       "      <th>OCCUPATION_TYPE</th>\n",
       "      <th>ORGANIZATION_TYPE</th>\n",
       "    </tr>\n",
       "  </thead>\n",
       "  <tbody>\n",
       "    <tr>\n",
       "      <th>count</th>\n",
       "      <td>307511</td>\n",
       "      <td>307511</td>\n",
       "      <td>307511</td>\n",
       "      <td>307511</td>\n",
       "      <td>307511</td>\n",
       "      <td>307511</td>\n",
       "      <td>211120</td>\n",
       "      <td>307511</td>\n",
       "    </tr>\n",
       "    <tr>\n",
       "      <th>unique</th>\n",
       "      <td>2</td>\n",
       "      <td>2</td>\n",
       "      <td>2</td>\n",
       "      <td>8</td>\n",
       "      <td>5</td>\n",
       "      <td>6</td>\n",
       "      <td>18</td>\n",
       "      <td>58</td>\n",
       "    </tr>\n",
       "    <tr>\n",
       "      <th>top</th>\n",
       "      <td>Cash loans</td>\n",
       "      <td>N</td>\n",
       "      <td>Y</td>\n",
       "      <td>Working</td>\n",
       "      <td>Secondary / secondary special</td>\n",
       "      <td>House / apartment</td>\n",
       "      <td>Laborers</td>\n",
       "      <td>Business Entity Type 3</td>\n",
       "    </tr>\n",
       "    <tr>\n",
       "      <th>freq</th>\n",
       "      <td>278232</td>\n",
       "      <td>202924</td>\n",
       "      <td>213312</td>\n",
       "      <td>158774</td>\n",
       "      <td>218391</td>\n",
       "      <td>272868</td>\n",
       "      <td>55186</td>\n",
       "      <td>67992</td>\n",
       "    </tr>\n",
       "  </tbody>\n",
       "</table>\n",
       "</div>"
      ],
      "text/plain": [
       "       NAME_CONTRACT_TYPE FLAG_OWN_CAR FLAG_OWN_REALTY NAME_INCOME_TYPE  \\\n",
       "count              307511       307511          307511           307511   \n",
       "unique                  2            2               2                8   \n",
       "top            Cash loans            N               Y          Working   \n",
       "freq               278232       202924          213312           158774   \n",
       "\n",
       "                  NAME_EDUCATION_TYPE  NAME_HOUSING_TYPE OCCUPATION_TYPE  \\\n",
       "count                          307511             307511          211120   \n",
       "unique                              5                  6              18   \n",
       "top     Secondary / secondary special  House / apartment        Laborers   \n",
       "freq                           218391             272868           55186   \n",
       "\n",
       "             ORGANIZATION_TYPE  \n",
       "count                   307511  \n",
       "unique                      58  \n",
       "top     Business Entity Type 3  \n",
       "freq                     67992  "
      ]
     },
     "execution_count": 8,
     "metadata": {},
     "output_type": "execute_result"
    }
   ],
   "source": [
    "# Review Categorical variables\n",
    "df_application_train.describe(include='O')"
   ]
  },
  {
   "cell_type": "markdown",
   "metadata": {},
   "source": [
    "There are 8 categorical variables. We will look at distribution of TARGET based on categorial values."
   ]
  },
  {
   "cell_type": "code",
   "execution_count": 131,
   "metadata": {
    "scrolled": false
   },
   "outputs": [
    {
     "name": "stdout",
     "output_type": "stream",
     "text": [
      "bar l: [0, 1]\n",
      "tick pos[0, 1]\n"
     ]
    },
    {
     "data": {
      "image/png": "[encoded data removed]",
      "text/plain": [
       "<Figure size 720x360 with 1 Axes>"
      ]
     },
     "metadata": {
      "needs_background": "light"
     },
     "output_type": "display_data"
    },
    {
     "name": "stdout",
     "output_type": "stream",
     "text": [
      "                       1        0\n",
      "Cash loans       93.5388    90.21\n",
      "Revolving loans  6.46123  9.79001\n",
      "bar l: [0, 1]\n",
      "tick pos[0, 1]\n"
     ]
    },
    {
     "data": {
      "image/png": "[encoded data removed]",
      "text/plain": [
       "<Figure size 720x360 with 1 Axes>"
      ]
     },
     "metadata": {
      "needs_background": "light"
     },
     "output_type": "display_data"
    },
    {
     "name": "stdout",
     "output_type": "stream",
     "text": [
      "         1        0\n",
      "N  69.4824  65.6824\n",
      "Y  30.5176  34.3176\n",
      "bar l: [0, 1]\n",
      "tick pos[0, 1]\n"
     ]
    },
    {
     "data": {
      "image/png": "[encoded data removed]",
      "text/plain": [
       "<Figure size 720x360 with 1 Axes>"
      ]
     },
     "metadata": {
      "needs_background": "light"
     },
     "output_type": "display_data"
    },
    {
     "name": "stdout",
     "output_type": "stream",
     "text": [
      "         1        0\n",
      "Y  68.4109  69.4513\n",
      "N  31.5891  30.5487\n",
      "bar l: [0, 1]\n",
      "tick pos[0, 1]\n"
     ]
    },
    {
     "data": {
      "image/png": "[encoded data removed]",
      "text/plain": [
       "<Figure size 720x360 with 1 Axes>"
      ]
     },
     "metadata": {
      "needs_background": "light"
     },
     "output_type": "display_data"
    },
    {
     "name": "stdout",
     "output_type": "stream",
     "text": [
      "                               1           0\n",
      "Working                  61.3253     50.7807\n",
      "State servant            5.03122     7.23559\n",
      "Commercial associate     21.5911     23.4384\n",
      "Pensioner                12.0121     18.5294\n",
      "Unemployed             0.0322256  0.00495249\n",
      "Student                        0  0.00636749\n",
      "Businessman                    0  0.00353749\n",
      "Maternity leave       0.00805639  0.00106125\n",
      "bar l: [0, 1]\n",
      "tick pos[0, 1]\n"
     ]
    },
    {
     "data": {
      "image/png": "[encoded data removed]",
      "text/plain": [
       "<Figure size 720x360 with 1 Axes>"
      ]
     },
     "metadata": {
      "needs_background": "light"
     },
     "output_type": "display_data"
    },
    {
     "name": "stdout",
     "output_type": "stream",
     "text": [
      "                                       1          0\n",
      "Secondary / secondary special    78.6465    70.3491\n",
      "Higher education                  16.149    25.0646\n",
      "Incomplete higher                3.51259    3.32701\n",
      "Lower secondary                  1.67976    1.20239\n",
      "Academic degree                0.0120846  0.0569537\n",
      "bar l: [0, 1]\n",
      "tick pos[0, 1]\n"
     ]
    },
    {
     "data": {
      "image/png": "[encoded data removed]",
      "text/plain": [
       "<Figure size 720x360 with 1 Axes>"
      ]
     },
     "metadata": {
      "needs_background": "light"
     },
     "output_type": "display_data"
    },
    {
     "name": "stdout",
     "output_type": "stream",
     "text": [
      "                           1         0\n",
      "House / apartment    85.6878   89.0019\n",
      "Rented apartment     2.42095   1.51405\n",
      "With parents         6.99295   4.63553\n",
      "Municipal apartment  3.84693   3.61815\n",
      "Office apartment     0.69285  0.864917\n",
      "Co-op apartment      0.35851  0.365423\n"
     ]
    }
   ],
   "source": [
    "categorical_features = ['NAME_CONTRACT_TYPE', 'FLAG_OWN_CAR', 'FLAG_OWN_REALTY', 'NAME_INCOME_TYPE',\n",
    "                        'NAME_EDUCATION_TYPE', 'NAME_HOUSING_TYPE']\n",
    "for f in categorical_features:\n",
    "    df_percentage = category_percentage_by_target(df_application_train, f, 'TARGET')\n",
    "    plot_stacked_percentage_bar(df_percentage, f)\n",
    "    print(df_percentage)"
   ]
  },
  {
   "cell_type": "markdown",
   "metadata": {},
   "source": [
    "#### Look at distribution of numerical variables vs TARGET"
   ]
  },
  {
   "cell_type": "code",
   "execution_count": 13,
   "metadata": {},
   "outputs": [
    {
     "data": {
      "image/png": "[encoded data removed]",
      "text/plain": [
       "<Figure size 432x288 with 1 Axes>"
      ]
     },
     "metadata": {
      "needs_background": "light"
     },
     "output_type": "display_data"
    },
    {
     "data": {
      "image/png": "[encoded data removed]",
      "text/plain": [
       "<Figure size 432x288 with 1 Axes>"
      ]
     },
     "metadata": {
      "needs_background": "light"
     },
     "output_type": "display_data"
    }
   ],
   "source": [
    "sns.boxplot(y='AMT_INCOME_TOTAL', x='TARGET', data=df_application_train)\n",
    "plt.show()\n",
    "sns.boxplot(y='AMT_CREDIT', x='TARGET', data=df_application_train)\n",
    "plt.show()"
   ]
  },
  {
   "cell_type": "markdown",
   "metadata": {},
   "source": [
    "#### Aggregate Bureau credit data"
   ]
  },
  {
   "cell_type": "code",
   "execution_count": 5,
   "metadata": {},
   "outputs": [
    {
     "name": "stdout",
     "output_type": "stream",
     "text": [
      "<class 'pandas.core.frame.DataFrame'>\n",
      "RangeIndex: 1716428 entries, 0 to 1716427\n",
      "Data columns (total 17 columns):\n",
      "SK_ID_CURR                int64\n",
      "SK_ID_BUREAU              int64\n",
      "CREDIT_ACTIVE             object\n",
      "CREDIT_CURRENCY           object\n",
      "DAYS_CREDIT               int64\n",
      "CREDIT_DAY_OVERDUE        int64\n",
      "DAYS_CREDIT_ENDDATE       float64\n",
      "DAYS_ENDDATE_FACT         float64\n",
      "AMT_CREDIT_MAX_OVERDUE    float64\n",
      "CNT_CREDIT_PROLONG        int64\n",
      "AMT_CREDIT_SUM            float64\n",
      "AMT_CREDIT_SUM_DEBT       float64\n",
      "AMT_CREDIT_SUM_LIMIT      float64\n",
      "AMT_CREDIT_SUM_OVERDUE    float64\n",
      "CREDIT_TYPE               object\n",
      "DAYS_CREDIT_UPDATE        int64\n",
      "AMT_ANNUITY               float64\n",
      "dtypes: float64(8), int64(6), object(3)\n",
      "memory usage: 222.6+ MB\n",
      "None\n",
      "   SK_ID_CURR  SK_ID_BUREAU CREDIT_ACTIVE CREDIT_CURRENCY  DAYS_CREDIT  \\\n",
      "0      215354       5714462        Closed      currency 1         -497   \n",
      "1      215354       5714463        Active      currency 1         -208   \n",
      "2      215354       5714464        Active      currency 1         -203   \n",
      "3      215354       5714465        Active      currency 1         -203   \n",
      "4      215354       5714466        Active      currency 1         -629   \n",
      "\n",
      "   CREDIT_DAY_OVERDUE  DAYS_CREDIT_ENDDATE  DAYS_ENDDATE_FACT  \\\n",
      "0                   0               -153.0             -153.0   \n",
      "1                   0               1075.0                NaN   \n",
      "2                   0                528.0                NaN   \n",
      "3                   0                  NaN                NaN   \n",
      "4                   0               1197.0                NaN   \n",
      "\n",
      "   AMT_CREDIT_MAX_OVERDUE  CNT_CREDIT_PROLONG  AMT_CREDIT_SUM  \\\n",
      "0                     NaN                   0         91323.0   \n",
      "1                     NaN                   0        225000.0   \n",
      "2                     NaN                   0        464323.5   \n",
      "3                     NaN                   0         90000.0   \n",
      "4                 77674.5                   0       2700000.0   \n",
      "\n",
      "   AMT_CREDIT_SUM_DEBT  AMT_CREDIT_SUM_LIMIT  AMT_CREDIT_SUM_OVERDUE  \\\n",
      "0                  0.0                   NaN                     0.0   \n",
      "1             171342.0                   NaN                     0.0   \n",
      "2                  NaN                   NaN                     0.0   \n",
      "3                  NaN                   NaN                     0.0   \n",
      "4                  NaN                   NaN                     0.0   \n",
      "\n",
      "       CREDIT_TYPE  DAYS_CREDIT_UPDATE  AMT_ANNUITY  \n",
      "0  Consumer credit                -131          NaN  \n",
      "1      Credit card                 -20          NaN  \n",
      "2  Consumer credit                 -16          NaN  \n",
      "3      Credit card                 -16          NaN  \n",
      "4  Consumer credit                 -21          NaN  \n"
     ]
    }
   ],
   "source": [
    "#Load the Application Train dataset\n",
    "df_bureau = pd.read_csv(DATA_DIR + '/bureau.csv')\n",
    "\n",
    "#Print Application Train dataset info\n",
    "print(df_bureau.info())\n",
    "print(df_bureau.head())"
   ]
  },
  {
   "cell_type": "code",
   "execution_count": 12,
   "metadata": {},
   "outputs": [
    {
     "data": {
      "text/html": [
       "<div>\n",
       "<style scoped>\n",
       "    .dataframe tbody tr th:only-of-type {\n",
       "        vertical-align: middle;\n",
       "    }\n",
       "\n",
       "    .dataframe tbody tr th {\n",
       "        vertical-align: top;\n",
       "    }\n",
       "\n",
       "    .dataframe thead th {\n",
       "        text-align: right;\n",
       "    }\n",
       "</style>\n",
       "<table border=\"1\" class=\"dataframe\">\n",
       "  <thead>\n",
       "    <tr style=\"text-align: right;\">\n",
       "      <th></th>\n",
       "      <th>SK_ID_CURR</th>\n",
       "      <th>SK_ID_BUREAU</th>\n",
       "      <th>CREDIT_ACTIVE</th>\n",
       "      <th>CREDIT_CURRENCY</th>\n",
       "      <th>CREDIT_DAY_OVERDUE</th>\n",
       "      <th>DAYS_CREDIT_ENDDATE</th>\n",
       "      <th>DAYS_ENDDATE_FACT</th>\n",
       "      <th>AMT_CREDIT_MAX_OVERDUE</th>\n",
       "      <th>CNT_CREDIT_PROLONG</th>\n",
       "      <th>AMT_CREDIT_SUM</th>\n",
       "      <th>...</th>\n",
       "      <th>AMT_CREDIT_SUM_LIMIT</th>\n",
       "      <th>AMT_CREDIT_SUM_OVERDUE</th>\n",
       "      <th>CREDIT_TYPE</th>\n",
       "      <th>DAYS_CREDIT_UPDATE</th>\n",
       "      <th>AMT_ANNUITY</th>\n",
       "      <th>BUREAU_COUNT</th>\n",
       "      <th>BUREAU_COUNT_30</th>\n",
       "      <th>BUREAU_COUNT_60</th>\n",
       "      <th>BUREAU_COUNT_120</th>\n",
       "      <th>BUREAU_COUNT_121_GT</th>\n",
       "    </tr>\n",
       "  </thead>\n",
       "  <tbody>\n",
       "    <tr>\n",
       "      <th>0</th>\n",
       "      <td>215354</td>\n",
       "      <td>5714462</td>\n",
       "      <td>Closed</td>\n",
       "      <td>currency 1</td>\n",
       "      <td>0</td>\n",
       "      <td>-153.0</td>\n",
       "      <td>-153.0</td>\n",
       "      <td>NaN</td>\n",
       "      <td>0</td>\n",
       "      <td>91323.0</td>\n",
       "      <td>...</td>\n",
       "      <td>NaN</td>\n",
       "      <td>0.0</td>\n",
       "      <td>Consumer credit</td>\n",
       "      <td>-131</td>\n",
       "      <td>NaN</td>\n",
       "      <td>1</td>\n",
       "      <td>NaN</td>\n",
       "      <td>NaN</td>\n",
       "      <td>NaN</td>\n",
       "      <td>1.0</td>\n",
       "    </tr>\n",
       "    <tr>\n",
       "      <th>1</th>\n",
       "      <td>215354</td>\n",
       "      <td>5714463</td>\n",
       "      <td>Active</td>\n",
       "      <td>currency 1</td>\n",
       "      <td>0</td>\n",
       "      <td>1075.0</td>\n",
       "      <td>NaN</td>\n",
       "      <td>NaN</td>\n",
       "      <td>0</td>\n",
       "      <td>225000.0</td>\n",
       "      <td>...</td>\n",
       "      <td>NaN</td>\n",
       "      <td>0.0</td>\n",
       "      <td>Credit card</td>\n",
       "      <td>-20</td>\n",
       "      <td>NaN</td>\n",
       "      <td>1</td>\n",
       "      <td>NaN</td>\n",
       "      <td>NaN</td>\n",
       "      <td>NaN</td>\n",
       "      <td>1.0</td>\n",
       "    </tr>\n",
       "    <tr>\n",
       "      <th>2</th>\n",
       "      <td>215354</td>\n",
       "      <td>5714464</td>\n",
       "      <td>Active</td>\n",
       "      <td>currency 1</td>\n",
       "      <td>0</td>\n",
       "      <td>528.0</td>\n",
       "      <td>NaN</td>\n",
       "      <td>NaN</td>\n",
       "      <td>0</td>\n",
       "      <td>464323.5</td>\n",
       "      <td>...</td>\n",
       "      <td>NaN</td>\n",
       "      <td>0.0</td>\n",
       "      <td>Consumer credit</td>\n",
       "      <td>-16</td>\n",
       "      <td>NaN</td>\n",
       "      <td>1</td>\n",
       "      <td>NaN</td>\n",
       "      <td>NaN</td>\n",
       "      <td>NaN</td>\n",
       "      <td>1.0</td>\n",
       "    </tr>\n",
       "    <tr>\n",
       "      <th>3</th>\n",
       "      <td>215354</td>\n",
       "      <td>5714465</td>\n",
       "      <td>Active</td>\n",
       "      <td>currency 1</td>\n",
       "      <td>0</td>\n",
       "      <td>NaN</td>\n",
       "      <td>NaN</td>\n",
       "      <td>NaN</td>\n",
       "      <td>0</td>\n",
       "      <td>90000.0</td>\n",
       "      <td>...</td>\n",
       "      <td>NaN</td>\n",
       "      <td>0.0</td>\n",
       "      <td>Credit card</td>\n",
       "      <td>-16</td>\n",
       "      <td>NaN</td>\n",
       "      <td>1</td>\n",
       "      <td>NaN</td>\n",
       "      <td>NaN</td>\n",
       "      <td>NaN</td>\n",
       "      <td>1.0</td>\n",
       "    </tr>\n",
       "    <tr>\n",
       "      <th>4</th>\n",
       "      <td>215354</td>\n",
       "      <td>5714466</td>\n",
       "      <td>Active</td>\n",
       "      <td>currency 1</td>\n",
       "      <td>0</td>\n",
       "      <td>1197.0</td>\n",
       "      <td>NaN</td>\n",
       "      <td>77674.5</td>\n",
       "      <td>0</td>\n",
       "      <td>2700000.0</td>\n",
       "      <td>...</td>\n",
       "      <td>NaN</td>\n",
       "      <td>0.0</td>\n",
       "      <td>Consumer credit</td>\n",
       "      <td>-21</td>\n",
       "      <td>NaN</td>\n",
       "      <td>1</td>\n",
       "      <td>NaN</td>\n",
       "      <td>NaN</td>\n",
       "      <td>NaN</td>\n",
       "      <td>1.0</td>\n",
       "    </tr>\n",
       "  </tbody>\n",
       "</table>\n",
       "<p>5 rows × 21 columns</p>\n",
       "</div>"
      ],
      "text/plain": [
       "   SK_ID_CURR  SK_ID_BUREAU CREDIT_ACTIVE CREDIT_CURRENCY  CREDIT_DAY_OVERDUE  \\\n",
       "0      215354       5714462        Closed      currency 1                   0   \n",
       "1      215354       5714463        Active      currency 1                   0   \n",
       "2      215354       5714464        Active      currency 1                   0   \n",
       "3      215354       5714465        Active      currency 1                   0   \n",
       "4      215354       5714466        Active      currency 1                   0   \n",
       "\n",
       "   DAYS_CREDIT_ENDDATE  DAYS_ENDDATE_FACT  AMT_CREDIT_MAX_OVERDUE  \\\n",
       "0               -153.0             -153.0                     NaN   \n",
       "1               1075.0                NaN                     NaN   \n",
       "2                528.0                NaN                     NaN   \n",
       "3                  NaN                NaN                     NaN   \n",
       "4               1197.0                NaN                 77674.5   \n",
       "\n",
       "   CNT_CREDIT_PROLONG  AMT_CREDIT_SUM  ...  AMT_CREDIT_SUM_LIMIT  \\\n",
       "0                   0         91323.0  ...                   NaN   \n",
       "1                   0        225000.0  ...                   NaN   \n",
       "2                   0        464323.5  ...                   NaN   \n",
       "3                   0         90000.0  ...                   NaN   \n",
       "4                   0       2700000.0  ...                   NaN   \n",
       "\n",
       "   AMT_CREDIT_SUM_OVERDUE      CREDIT_TYPE DAYS_CREDIT_UPDATE  AMT_ANNUITY  \\\n",
       "0                     0.0  Consumer credit               -131          NaN   \n",
       "1                     0.0      Credit card                -20          NaN   \n",
       "2                     0.0  Consumer credit                -16          NaN   \n",
       "3                     0.0      Credit card                -16          NaN   \n",
       "4                     0.0  Consumer credit                -21          NaN   \n",
       "\n",
       "   BUREAU_COUNT  BUREAU_COUNT_30  BUREAU_COUNT_60  BUREAU_COUNT_120  \\\n",
       "0             1              NaN              NaN               NaN   \n",
       "1             1              NaN              NaN               NaN   \n",
       "2             1              NaN              NaN               NaN   \n",
       "3             1              NaN              NaN               NaN   \n",
       "4             1              NaN              NaN               NaN   \n",
       "\n",
       "   BUREAU_COUNT_121_GT  \n",
       "0                  1.0  \n",
       "1                  1.0  \n",
       "2                  1.0  \n",
       "3                  1.0  \n",
       "4                  1.0  \n",
       "\n",
       "[5 rows x 21 columns]"
      ]
     },
     "execution_count": 12,
     "metadata": {},
     "output_type": "execute_result"
    }
   ],
   "source": [
    "#Column to count all bureau records\n",
    "df_bureau['BUREAU_COUNT'] = 1\n",
    "\n",
    "# Bureau records within 30 days of application\n",
    "df_bureau.loc[(df_bureau['DAYS_CREDIT'] <= 0) & (df_bureau['DAYS_CREDIT'] >= -30), 'BUREAU_COUNT_30'] = 1\n",
    "# Bureau records within 31-60 days of application\n",
    "df_bureau.loc[(df_bureau['DAYS_CREDIT'] <= -31) & (df_bureau['DAYS_CREDIT'] >= -60), 'BUREAU_COUNT_60'] = 1\n",
    "# Bureau records within 61-120 days of application\n",
    "df_bureau.loc[(df_bureau['DAYS_CREDIT'] <= -61) & (df_bureau['DAYS_CREDIT'] >= -120), 'BUREAU_COUNT_120'] = 1\n",
    "# Bureau records >= 121 days of application\n",
    "df_bureau.loc[(df_bureau['DAYS_CREDIT'] <= -121), 'BUREAU_COUNT_121_GT'] = 1\n",
    "\n",
    "df_bureau.head()"
   ]
  },
  {
   "cell_type": "code",
   "execution_count": 17,
   "metadata": {},
   "outputs": [
    {
     "name": "stdout",
     "output_type": "stream",
     "text": [
      "   SK_ID_CURR  SK_ID_BUREAU CREDIT_ACTIVE CREDIT_CURRENCY  CREDIT_DAY_OVERDUE  \\\n",
      "0      215354       5714462        Closed      currency 1                   0   \n",
      "\n",
      "   DAYS_CREDIT_ENDDATE  DAYS_ENDDATE_FACT  AMT_CREDIT_MAX_OVERDUE  \\\n",
      "0               -153.0             -153.0                     NaN   \n",
      "\n",
      "   CNT_CREDIT_PROLONG  AMT_CREDIT_SUM  ...  CREDIT_TYPE_Interbank credit  \\\n",
      "0                   0         91323.0  ...                             0   \n",
      "\n",
      "   CREDIT_TYPE_Loan for business development  \\\n",
      "0                                          0   \n",
      "\n",
      "   CREDIT_TYPE_Loan for purchase of shares (margin lending)  \\\n",
      "0                                                  0          \n",
      "\n",
      "  CREDIT_TYPE_Loan for the purchase of equipment  \\\n",
      "0                                              0   \n",
      "\n",
      "   CREDIT_TYPE_Loan for working capital replenishment  CREDIT_TYPE_Microloan  \\\n",
      "0                                                  0                       0   \n",
      "\n",
      "   CREDIT_TYPE_Mobile operator loan  CREDIT_TYPE_Mortgage  \\\n",
      "0                                 0                     0   \n",
      "\n",
      "   CREDIT_TYPE_Real estate loan  CREDIT_TYPE_Unknown type of loan  \n",
      "0                             0                                 0  \n",
      "\n",
      "[1 rows x 40 columns]\n"
     ]
    }
   ],
   "source": [
    "#bureau categorical features\n",
    "bureau_categorical_features = ['CREDIT_ACTIVE', 'CREDIT_TYPE']\n",
    "\n",
    "#convert categorical features to dummy columns\n",
    "dummy = pd.get_dummies(df_bureau[bureau_categorical_features])\n",
    "\n",
    "#Concat df_bureau and dummy\n",
    "df_bureau = pd.concat([df_bureau, dummy], axis = 1)\n",
    "\n",
    "print(df_bureau.head(1))"
   ]
  },
  {
   "cell_type": "code",
   "execution_count": 24,
   "metadata": {},
   "outputs": [
    {
     "name": "stdout",
     "output_type": "stream",
     "text": [
      "<class 'pandas.core.frame.DataFrame'>\n",
      "Int64Index: 630607 entries, 1 to 1716423\n",
      "Data columns (total 40 columns):\n",
      "SK_ID_CURR                                                  630607 non-null int64\n",
      "SK_ID_BUREAU                                                630607 non-null int64\n",
      "CREDIT_ACTIVE                                               630607 non-null object\n",
      "CREDIT_CURRENCY                                             630607 non-null object\n",
      "CREDIT_DAY_OVERDUE                                          630607 non-null int64\n",
      "DAYS_CREDIT_ENDDATE                                         558111 non-null float64\n",
      "DAYS_ENDDATE_FACT                                           1969 non-null float64\n",
      "AMT_CREDIT_MAX_OVERDUE                                      218433 non-null float64\n",
      "CNT_CREDIT_PROLONG                                          630607 non-null int64\n",
      "AMT_CREDIT_SUM                                              630599 non-null float64\n",
      "AMT_CREDIT_SUM_DEBT                                         557060 non-null float64\n",
      "AMT_CREDIT_SUM_LIMIT                                        457289 non-null float64\n",
      "AMT_CREDIT_SUM_OVERDUE                                      630607 non-null float64\n",
      "CREDIT_TYPE                                                 630607 non-null object\n",
      "DAYS_CREDIT_UPDATE                                          630607 non-null int64\n",
      "AMT_ANNUITY                                                 199058 non-null float64\n",
      "BUREAU_COUNT                                                630607 non-null int64\n",
      "BUREAU_COUNT_30                                             10964 non-null float64\n",
      "BUREAU_COUNT_60                                             17080 non-null float64\n",
      "BUREAU_COUNT_120                                            41783 non-null float64\n",
      "BUREAU_COUNT_121_GT                                         560780 non-null float64\n",
      "CREDIT_ACTIVE_ACTIVE                                        630607 non-null uint8\n",
      "CREDIT_ACTIVE_BAD_DEBT                                      630607 non-null uint8\n",
      "CREDIT_ACTIVE_CLOSED                                        630607 non-null uint8\n",
      "CREDIT_ACTIVE_SOLD                                          630607 non-null uint8\n",
      "CREDIT_TYPE_ANOTHER_TYPE_OF_LOAN                            630607 non-null uint8\n",
      "CREDIT_TYPE_CAR_LOAN                                        630607 non-null uint8\n",
      "CREDIT_TYPE_CASH_LOAN_(NON-EARMARKED)                       630607 non-null uint8\n",
      "CREDIT_TYPE_CONSUMER_CREDIT                                 630607 non-null uint8\n",
      "CREDIT_TYPE_CREDIT_CARD                                     630607 non-null uint8\n",
      "CREDIT_TYPE_INTERBANK_CREDIT                                630607 non-null uint8\n",
      "CREDIT_TYPE_LOAN_FOR_BUSINESS_DEVELOPMENT                   630607 non-null uint8\n",
      "CREDIT_TYPE_LOAN_FOR_PURCHASE_OF_SHARES_(MARGIN_LENDING)    630607 non-null uint8\n",
      "CREDIT_TYPE_LOAN_FOR_THE_PURCHASE_OF_EQUIPMENT              630607 non-null uint8\n",
      "CREDIT_TYPE_LOAN_FOR_WORKING_CAPITAL_REPLENISHMENT          630607 non-null uint8\n",
      "CREDIT_TYPE_MICROLOAN                                       630607 non-null uint8\n",
      "CREDIT_TYPE_MOBILE_OPERATOR_LOAN                            630607 non-null uint8\n",
      "CREDIT_TYPE_MORTGAGE                                        630607 non-null uint8\n",
      "CREDIT_TYPE_REAL_ESTATE_LOAN                                630607 non-null uint8\n",
      "CREDIT_TYPE_UNKNOWN_TYPE_OF_LOAN                            630607 non-null uint8\n",
      "dtypes: float64(12), int64(6), object(3), uint8(19)\n",
      "memory usage: 117.3+ MB\n"
     ]
    }
   ],
   "source": [
    "#get ACTIVE bureau accounts only\n",
    "df_active_bureau = df_bureau[df_bureau['CREDIT_ACTIVE']=='Active'].copy()\n",
    "\n",
    "#Standardize column names\n",
    "rename_dict = dict()\n",
    "for col in df_active_bureau.columns:\n",
    "    rename_dict.update([(col, col.replace(' ','_').upper())])\n",
    "df_active_bureau.rename(columns = rename_dict, inplace=True)\n",
    "\n",
    "df_active_bureau.info()"
   ]
  },
  {
   "cell_type": "markdown",
   "metadata": {},
   "source": [
    "#### Do we need to keep all the columns?"
   ]
  },
  {
   "cell_type": "code",
   "execution_count": 32,
   "metadata": {},
   "outputs": [
    {
     "data": {
      "image/png": "[encoded data removed]",
      "text/plain": [
       "<Figure size 432x288 with 2 Axes>"
      ]
     },
     "metadata": {
      "needs_background": "light"
     },
     "output_type": "display_data"
    },
    {
     "data": {
      "image/png": "[encoded data removed]",
      "text/plain": [
       "<Figure size 432x288 with 2 Axes>"
      ]
     },
     "metadata": {
      "needs_background": "light"
     },
     "output_type": "display_data"
    }
   ],
   "source": [
    "#Plot 2 categorical data in active accounts\n",
    "plot_counts(df_active_bureau, 'CREDIT_TYPE')\n",
    "plot_counts(df_active_bureau, 'CREDIT_CURRENCY')"
   ]
  },
  {
   "cell_type": "code",
   "execution_count": null,
   "metadata": {},
   "outputs": [],
   "source": []
  }
 ],
 "metadata": {
  "kernelspec": {
   "display_name": "Python 3",
   "language": "python",
   "name": "python3"
  },
  "language_info": {
   "codemirror_mode": {
    "name": "ipython",
    "version": 3
   },
   "file_extension": ".py",
   "mimetype": "text/x-python",
   "name": "python",
   "nbconvert_exporter": "python",
   "pygments_lexer": "ipython3",
   "version": "3.7.3"
  }
 },
 "nbformat": 4,
 "nbformat_minor": 2
}
